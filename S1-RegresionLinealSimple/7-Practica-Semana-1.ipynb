{
 "cells": [
  {
   "cell_type": "markdown",
   "metadata": {},
   "source": [
    "## Práctica Calificada - Semana 1\n",
    "\n",
    "Este es el primer entregable calificado. Debe completar todos los ejercicios para obtener un 100% en la calificación. Recuerde que tiene hasta el próximo viernes a medianoche para entregar el ejercicio en el aula virtual. \n",
    "\n",
    "Forma de entrega: por favor coloque el archivo Practica-Semana1-ipynb en un .zip con el figuiente formato:\n",
    "- primera-letra-nombre.apellido-semana.zip \n",
    "- (por ejemplo, Juan Zamora debe entregar el archivo j.zamora-1.zip) La tarea debe subirse al aula virtual.\n"
   ]
  },
  {
   "cell_type": "code",
   "execution_count": 126,
   "metadata": {},
   "outputs": [],
   "source": [
    "# 1 [COMPLETE] - imports: ponga todos sus imports en esta seccion: (1pt)\n",
    "import pandas as pd\n",
    "import numpy as np\n",
    "import matplotlib.pyplot as plt\n",
    "from sklearn.model_selection import train_test_split\n",
    "from sklearn.linear_model import LinearRegression\n",
    "from sklearn.metrics import mean_squared_error\n",
    "#from scipy.stats import zscore\n",
    "from scipy import stats"
   ]
  },
  {
   "cell_type": "code",
   "execution_count": 127,
   "metadata": {},
   "outputs": [
    {
     "data": {
      "text/html": [
       "<div>\n",
       "<style scoped>\n",
       "    .dataframe tbody tr th:only-of-type {\n",
       "        vertical-align: middle;\n",
       "    }\n",
       "\n",
       "    .dataframe tbody tr th {\n",
       "        vertical-align: top;\n",
       "    }\n",
       "\n",
       "    .dataframe thead th {\n",
       "        text-align: right;\n",
       "    }\n",
       "</style>\n",
       "<table border=\"1\" class=\"dataframe\">\n",
       "  <thead>\n",
       "    <tr style=\"text-align: right;\">\n",
       "      <th></th>\n",
       "      <th>id</th>\n",
       "      <th>date</th>\n",
       "      <th>price</th>\n",
       "      <th>bedrooms</th>\n",
       "      <th>bathrooms</th>\n",
       "      <th>sqft_living</th>\n",
       "      <th>sqft_lot</th>\n",
       "      <th>floors</th>\n",
       "      <th>waterfront</th>\n",
       "      <th>view</th>\n",
       "      <th>...</th>\n",
       "      <th>grade</th>\n",
       "      <th>sqft_above</th>\n",
       "      <th>sqft_basement</th>\n",
       "      <th>yr_built</th>\n",
       "      <th>yr_renovated</th>\n",
       "      <th>zipcode</th>\n",
       "      <th>lat</th>\n",
       "      <th>long</th>\n",
       "      <th>sqft_living15</th>\n",
       "      <th>sqft_lot15</th>\n",
       "    </tr>\n",
       "  </thead>\n",
       "  <tbody>\n",
       "    <tr>\n",
       "      <th>0</th>\n",
       "      <td>7129300520</td>\n",
       "      <td>20141013T000000</td>\n",
       "      <td>221900.0</td>\n",
       "      <td>3</td>\n",
       "      <td>1.00</td>\n",
       "      <td>1180</td>\n",
       "      <td>5650</td>\n",
       "      <td>1.0</td>\n",
       "      <td>0</td>\n",
       "      <td>0</td>\n",
       "      <td>...</td>\n",
       "      <td>7</td>\n",
       "      <td>1180</td>\n",
       "      <td>0</td>\n",
       "      <td>1955</td>\n",
       "      <td>0</td>\n",
       "      <td>98178</td>\n",
       "      <td>47.5112</td>\n",
       "      <td>-122.257</td>\n",
       "      <td>1340</td>\n",
       "      <td>5650</td>\n",
       "    </tr>\n",
       "    <tr>\n",
       "      <th>1</th>\n",
       "      <td>6414100192</td>\n",
       "      <td>20141209T000000</td>\n",
       "      <td>538000.0</td>\n",
       "      <td>3</td>\n",
       "      <td>2.25</td>\n",
       "      <td>2570</td>\n",
       "      <td>7242</td>\n",
       "      <td>2.0</td>\n",
       "      <td>0</td>\n",
       "      <td>0</td>\n",
       "      <td>...</td>\n",
       "      <td>7</td>\n",
       "      <td>2170</td>\n",
       "      <td>400</td>\n",
       "      <td>1951</td>\n",
       "      <td>1991</td>\n",
       "      <td>98125</td>\n",
       "      <td>47.7210</td>\n",
       "      <td>-122.319</td>\n",
       "      <td>1690</td>\n",
       "      <td>7639</td>\n",
       "    </tr>\n",
       "    <tr>\n",
       "      <th>2</th>\n",
       "      <td>5631500400</td>\n",
       "      <td>20150225T000000</td>\n",
       "      <td>180000.0</td>\n",
       "      <td>2</td>\n",
       "      <td>1.00</td>\n",
       "      <td>770</td>\n",
       "      <td>10000</td>\n",
       "      <td>1.0</td>\n",
       "      <td>0</td>\n",
       "      <td>0</td>\n",
       "      <td>...</td>\n",
       "      <td>6</td>\n",
       "      <td>770</td>\n",
       "      <td>0</td>\n",
       "      <td>1933</td>\n",
       "      <td>0</td>\n",
       "      <td>98028</td>\n",
       "      <td>47.7379</td>\n",
       "      <td>-122.233</td>\n",
       "      <td>2720</td>\n",
       "      <td>8062</td>\n",
       "    </tr>\n",
       "    <tr>\n",
       "      <th>3</th>\n",
       "      <td>2487200875</td>\n",
       "      <td>20141209T000000</td>\n",
       "      <td>604000.0</td>\n",
       "      <td>4</td>\n",
       "      <td>3.00</td>\n",
       "      <td>1960</td>\n",
       "      <td>5000</td>\n",
       "      <td>1.0</td>\n",
       "      <td>0</td>\n",
       "      <td>0</td>\n",
       "      <td>...</td>\n",
       "      <td>7</td>\n",
       "      <td>1050</td>\n",
       "      <td>910</td>\n",
       "      <td>1965</td>\n",
       "      <td>0</td>\n",
       "      <td>98136</td>\n",
       "      <td>47.5208</td>\n",
       "      <td>-122.393</td>\n",
       "      <td>1360</td>\n",
       "      <td>5000</td>\n",
       "    </tr>\n",
       "    <tr>\n",
       "      <th>4</th>\n",
       "      <td>1954400510</td>\n",
       "      <td>20150218T000000</td>\n",
       "      <td>510000.0</td>\n",
       "      <td>3</td>\n",
       "      <td>2.00</td>\n",
       "      <td>1680</td>\n",
       "      <td>8080</td>\n",
       "      <td>1.0</td>\n",
       "      <td>0</td>\n",
       "      <td>0</td>\n",
       "      <td>...</td>\n",
       "      <td>8</td>\n",
       "      <td>1680</td>\n",
       "      <td>0</td>\n",
       "      <td>1987</td>\n",
       "      <td>0</td>\n",
       "      <td>98074</td>\n",
       "      <td>47.6168</td>\n",
       "      <td>-122.045</td>\n",
       "      <td>1800</td>\n",
       "      <td>7503</td>\n",
       "    </tr>\n",
       "  </tbody>\n",
       "</table>\n",
       "<p>5 rows × 21 columns</p>\n",
       "</div>"
      ],
      "text/plain": [
       "           id             date     price  bedrooms  bathrooms  sqft_living  \\\n",
       "0  7129300520  20141013T000000  221900.0         3       1.00         1180   \n",
       "1  6414100192  20141209T000000  538000.0         3       2.25         2570   \n",
       "2  5631500400  20150225T000000  180000.0         2       1.00          770   \n",
       "3  2487200875  20141209T000000  604000.0         4       3.00         1960   \n",
       "4  1954400510  20150218T000000  510000.0         3       2.00         1680   \n",
       "\n",
       "   sqft_lot  floors  waterfront  view  ...  grade  sqft_above  sqft_basement  \\\n",
       "0      5650     1.0           0     0  ...      7        1180              0   \n",
       "1      7242     2.0           0     0  ...      7        2170            400   \n",
       "2     10000     1.0           0     0  ...      6         770              0   \n",
       "3      5000     1.0           0     0  ...      7        1050            910   \n",
       "4      8080     1.0           0     0  ...      8        1680              0   \n",
       "\n",
       "   yr_built  yr_renovated  zipcode      lat     long  sqft_living15  \\\n",
       "0      1955             0    98178  47.5112 -122.257           1340   \n",
       "1      1951          1991    98125  47.7210 -122.319           1690   \n",
       "2      1933             0    98028  47.7379 -122.233           2720   \n",
       "3      1965             0    98136  47.5208 -122.393           1360   \n",
       "4      1987             0    98074  47.6168 -122.045           1800   \n",
       "\n",
       "   sqft_lot15  \n",
       "0        5650  \n",
       "1        7639  \n",
       "2        8062  \n",
       "3        5000  \n",
       "4        7503  \n",
       "\n",
       "[5 rows x 21 columns]"
      ]
     },
     "execution_count": 127,
     "metadata": {},
     "output_type": "execute_result"
    }
   ],
   "source": [
    "# utilizaremos Pandas para cargar los datos de un CSV\n",
    "link = 'https://raw.githubusercontent.com/agomezs/programa-ia/main/S1-RegresionLinealSimple/data/precios-casas-1.csv?token=AB6W5JVSJRZOC7FJK3CDG6S7YW7ZG'\n",
    "data = pd.read_csv(\"data/precios-casas-1.csv\")\n",
    "data.head()"
   ]
  },
  {
   "cell_type": "markdown",
   "metadata": {},
   "source": [
    "## Ajuste"
   ]
  },
  {
   "cell_type": "code",
   "execution_count": 128,
   "metadata": {},
   "outputs": [],
   "source": [
    "# AJUSTE [COMPLETE] (1pt)\n",
    "# Las indicaciones estan en la Parte 3. (no resuelva esto sin haber completado \n",
    "# la Parte 1 y 2)\n",
    "\n",
    "# el ajuste debe realizarse sobre la variable data.\n",
    "\n",
    "index_to_remove = data.sort_values(by=['sqft_living'], ascending=False).head(1).index\n",
    "\n",
    "data.drop(index_to_remove, inplace=True)\n",
    "\n",
    "# # quita todos los outliers\n",
    "# result1 = data[(np.abs(stats.zscore(df)) < 3).all(axis=1)]\n",
    "# result1.info()"
   ]
  },
  {
   "cell_type": "raw",
   "metadata": {},
   "source": [
    "## Parte 1: Training Set"
   ]
  },
  {
   "cell_type": "code",
   "execution_count": 129,
   "metadata": {},
   "outputs": [],
   "source": [
    "# 2 [COMPLETE] (1pt)\n",
    "# - separe el dataset (data) en train (con 80%) y test set (con 20%) de los datos\n",
    "# y = precio, X = sqft_living\n",
    "X = data['sqft_living']\n",
    "y = data['price']\n",
    "sqr_train, sqr_test, price_train, price_test = train_test_split(X, y, test_size=0.20, random_state=42)"
   ]
  },
  {
   "cell_type": "code",
   "execution_count": 130,
   "metadata": {},
   "outputs": [
    {
     "data": {
      "image/png": "[encoded data removed]",
      "text/plain": [
       "<Figure size 1440x576 with 2 Axes>"
      ]
     },
     "metadata": {
      "needs_background": "light"
     },
     "output_type": "display_data"
    }
   ],
   "source": [
    "# 3 [COMPLETE] (3pt)\n",
    "# despliegue el train set y el test set con matplotlib. Despliegue los charts usando\n",
    "# scatter plots con puntos verdes para el training set y azules para el test set.\n",
    "# ambos charts deben desplegarse de forma horizonal (uno al lado del otro)\n",
    "fig, (ax1, ax2) = plt.subplots(1, 2, figsize=(20, 8))\n",
    "\n",
    "ax1.scatter(sqr_train, price_train, marker = \".\", s = 60, c = \"green\")\n",
    "ax2.scatter(sqr_test, price_test, marker = \".\", s = 60, c = \"blue\")\n",
    "\n",
    "fig.text(0.5, 0.04, 'Living square feet', ha='center')\n",
    "fig.text(0.09, 0.5, 'Price', va='center', rotation='vertical')\n",
    "\n",
    "plt.show()\n"
   ]
  },
  {
   "cell_type": "code",
   "execution_count": 131,
   "metadata": {},
   "outputs": [
    {
     "name": "stdout",
     "output_type": "stream",
     "text": [
      "x_train [[1780]\n",
      " [1430]\n",
      " [1990]\n",
      " ...\n",
      " [2120]\n",
      " [ 380]\n",
      " [1830]]\n",
      "y_train [[325000.]\n",
      " [485000.]\n",
      " [293000.]\n",
      " ...\n",
      " [575000.]\n",
      " [245000.]\n",
      " [485000.]]\n"
     ]
    }
   ],
   "source": [
    "# 4 [COMPLETE] (2pt)\n",
    "# utilize Sklearn para generar el modelo de regresion lineal sobre el training set.\n",
    "# imprima el valor de los coeficientes≠\n",
    "#x = sqr_train\n",
    "\n",
    "x_train = sqr_train.to_numpy().reshape(-1, 1)\n",
    "y_train = price_train.to_numpy().reshape(-1, 1)\n",
    "print('x_train', x_train)\n",
    "print('y_train', y_train)\n",
    "\n",
    "model = LinearRegression().fit(x_train, y_train)"
   ]
  },
  {
   "cell_type": "code",
   "execution_count": 132,
   "metadata": {},
   "outputs": [
    {
     "data": {
      "image/png": "[encoded data removed]",
      "text/plain": [
       "<Figure size 432x288 with 1 Axes>"
      ]
     },
     "metadata": {
      "needs_background": "light"
     },
     "output_type": "display_data"
    }
   ],
   "source": [
    "# 5 [COMPLETE] (2pt)\n",
    "# despliegue con Matplotlib el trainig set y el modelo (funcion de regresion) sobre\n",
    "# los datos. Aplique el color magenta a la linea de regresion.\n",
    "plt.scatter(sqr_train, price_train, marker = \".\", s = 60, c = \"green\")\n",
    "plt.xlabel('Living square feet')\n",
    "plt.ylabel('Price')\n",
    "\n",
    "y_prima = model.predict(x_train)\n",
    "plt.plot(sqr_train, y_prima, 'r--', c = \"magenta\")\n",
    "\n",
    "plt.show()\n"
   ]
  },
  {
   "cell_type": "code",
   "execution_count": 133,
   "metadata": {},
   "outputs": [
    {
     "name": "stdout",
     "output_type": "stream",
     "text": [
      "MSE TRAIN:  66901872979.17128\n"
     ]
    }
   ],
   "source": [
    "# 6 [COMPLETE] (1pt)\n",
    "# calcule el MSE del training set\n",
    "mse_train = mean_squared_error(y_train, y_prima)\n",
    "print(\"MSE TRAIN: \", mse_train)"
   ]
  },
  {
   "cell_type": "markdown",
   "metadata": {},
   "source": [
    "## Parte 2: Test Set"
   ]
  },
  {
   "cell_type": "code",
   "execution_count": 134,
   "metadata": {},
   "outputs": [],
   "source": [
    "# 7 [COMPLETE] (1pt)\n",
    "# Aplique el modelo generado (en el paso #4) sobre el test set. \n",
    "# Aqui debe generar la prediccion sobre el test set usando el modelo ya generado.\n",
    "# y_prima_test = modelo.predecir(...)\n",
    "\n",
    "x_test = sqr_test.to_numpy().reshape(-1, 1)\n",
    "\n",
    "y_prima_test = model.predict(x_test)"
   ]
  },
  {
   "cell_type": "code",
   "execution_count": 135,
   "metadata": {},
   "outputs": [
    {
     "data": {
      "image/png": "[encoded data removed]",
      "text/plain": [
       "<Figure size 432x288 with 1 Axes>"
      ]
     },
     "metadata": {
      "needs_background": "light"
     },
     "output_type": "display_data"
    }
   ],
   "source": [
    "# 8 [COMPLETE] (2pt)\n",
    "# despliegue con Matplotlib el test set y el modelo (funcion de regresion) sobre\n",
    "# los datos. Aplique el color naranja a la linea de regresion.\n",
    "plt.scatter(sqr_test, price_test, marker = \".\", s = 60, c = \"green\")\n",
    "plt.xlabel('Living square feet')\n",
    "plt.ylabel('Price')\n",
    "\n",
    "plt.plot(sqr_test, y_prima_test, 'r--', c = \"orange\")\n",
    "\n",
    "plt.show()"
   ]
  },
  {
   "cell_type": "code",
   "execution_count": 136,
   "metadata": {},
   "outputs": [
    {
     "name": "stdout",
     "output_type": "stream",
     "text": [
      "MSE Test:  73657279912.95067\n"
     ]
    }
   ],
   "source": [
    "# 9 [COMPLETE] (1pt)\n",
    "# calcule el MSE del test set\n",
    "y_test = price_test.to_numpy().reshape(-1, 1)\n",
    "mse_test = mean_squared_error(y_test, y_prima_test)\n",
    "print(\"MSE Test: \", mse_test)"
   ]
  },
  {
   "cell_type": "markdown",
   "metadata": {},
   "source": [
    "## Parte 3: Ajuste del Problema."
   ]
  },
  {
   "cell_type": "code",
   "execution_count": 138,
   "metadata": {},
   "outputs": [
    {
     "name": "stdout",
     "output_type": "stream",
     "text": [
      "MS Train Diff: -582525194.6533508\n",
      "MS Test  Diff: 2827697148.8254547\n"
     ]
    }
   ],
   "source": [
    "# 10 [COMPLETE] (5pt)\n",
    "# Existe un problema con los datos que afecta el modelo de regresion lineal. \n",
    "# Considere eliminar los datos que ud considere que estan dando problemas y\n",
    "# vuelva a ejecutar los pasos del 1 al 9.\n",
    "# PISTA: son 2 datos que afectan el modelo...\n",
    "\n",
    "# es importante que este ajuste se realize en la casilla de AJUSTE, que esta antes\n",
    "# de la Parte 1.\n",
    "\n",
    "# antes de realizar el ajuste, salve el MSE_train y el MSE_test en variables para \n",
    "# que pueda comparar estos datos despues del ajuste\n",
    "\n",
    "# Obtenga: \n",
    "# MSE_train\n",
    "# MSE_train_adj\n",
    "# MSE_test\n",
    "# MSE_test_adj\n",
    "\n",
    "MSE_train = 66319347784.51793\n",
    "MSE_train_adj = 66901872979.17128\n",
    "MSE_test = 76484977061.77612\n",
    "MSE_test_adj = 73657279912.95067\n",
    "\n",
    "print('MS Train Diff:', MSE_train - MSE_train_adj)\n",
    "print('MS Test  Diff:', MSE_test - MSE_test_adj)\n"
   ]
  },
  {
   "cell_type": "code",
   "execution_count": null,
   "metadata": {},
   "outputs": [],
   "source": []
  },
  {
   "cell_type": "code",
   "execution_count": null,
   "metadata": {},
   "outputs": [],
   "source": []
  }
 ],
 "metadata": {
  "kernelspec": {
   "display_name": "Python 3",
   "language": "python",
   "name": "python3"
  },
  "language_info": {
   "codemirror_mode": {
    "name": "ipython",
    "version": 3
   },
   "file_extension": ".py",
   "mimetype": "text/x-python",
   "name": "python",
   "nbconvert_exporter": "python",
   "pygments_lexer": "ipython3",
   "version": "3.6.12"
  }
 },
 "nbformat": 4,
 "nbformat_minor": 4
}
