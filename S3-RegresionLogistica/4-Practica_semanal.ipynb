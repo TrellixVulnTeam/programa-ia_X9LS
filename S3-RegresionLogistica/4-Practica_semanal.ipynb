{
 "cells": [
  {
   "cell_type": "markdown",
   "metadata": {},
   "source": [
    "# Práctica semanal\n",
    "\n",
    "En esta práctica, trabajaremos dos proyectos distintos, uno de clasificación binaria y otro de clasificación multiclase. \n",
    "\n",
    "## Clasificación binaria\n",
    "\n",
    "Nuestro dataset se encuentra en el archivo ``data/transfusion.csv``. Cada línea contiene información de donantes de sangre y tiene las siguientes columnas:\n",
    "\n",
    "- ``meses_ultima``: número de meses desde la última donación de sangre\n",
    "- ``frecuencia``: número de veces que la persona ha donado sangre\n",
    "- ``volumen``: cantidad total de sangre (en ml) donada por la persona\n",
    "- ``meses_primera``: número de meses desde la primera donación de sangre\n",
    "- ``donante``: si la persona ha donado sangre durante el último mes\n",
    "\n",
    "Nuestro propósito es construir la función ``es_donante(meses_ultima, frecuencia, volumen, meses_primera)`` la cual devuelve ``True`` si se predice que la persona donaría sangre el próximo mes, ``False`` si no."
   ]
  },
  {
   "cell_type": "code",
   "execution_count": 1,
   "metadata": {},
   "outputs": [
    {
     "data": {
      "text/html": [
       "<div>\n",
       "<style scoped>\n",
       "    .dataframe tbody tr th:only-of-type {\n",
       "        vertical-align: middle;\n",
       "    }\n",
       "\n",
       "    .dataframe tbody tr th {\n",
       "        vertical-align: top;\n",
       "    }\n",
       "\n",
       "    .dataframe thead th {\n",
       "        text-align: right;\n",
       "    }\n",
       "</style>\n",
       "<table border=\"1\" class=\"dataframe\">\n",
       "  <thead>\n",
       "    <tr style=\"text-align: right;\">\n",
       "      <th></th>\n",
       "      <th>meses_ultima</th>\n",
       "      <th>frecuencia</th>\n",
       "      <th>volumen</th>\n",
       "      <th>meses_primera</th>\n",
       "      <th>donante</th>\n",
       "    </tr>\n",
       "  </thead>\n",
       "  <tbody>\n",
       "    <tr>\n",
       "      <th>0</th>\n",
       "      <td>2</td>\n",
       "      <td>50</td>\n",
       "      <td>12500</td>\n",
       "      <td>98</td>\n",
       "      <td>1</td>\n",
       "    </tr>\n",
       "    <tr>\n",
       "      <th>1</th>\n",
       "      <td>0</td>\n",
       "      <td>13</td>\n",
       "      <td>3250</td>\n",
       "      <td>28</td>\n",
       "      <td>1</td>\n",
       "    </tr>\n",
       "    <tr>\n",
       "      <th>2</th>\n",
       "      <td>1</td>\n",
       "      <td>16</td>\n",
       "      <td>4000</td>\n",
       "      <td>35</td>\n",
       "      <td>1</td>\n",
       "    </tr>\n",
       "    <tr>\n",
       "      <th>3</th>\n",
       "      <td>2</td>\n",
       "      <td>20</td>\n",
       "      <td>5000</td>\n",
       "      <td>45</td>\n",
       "      <td>1</td>\n",
       "    </tr>\n",
       "    <tr>\n",
       "      <th>4</th>\n",
       "      <td>1</td>\n",
       "      <td>24</td>\n",
       "      <td>6000</td>\n",
       "      <td>77</td>\n",
       "      <td>0</td>\n",
       "    </tr>\n",
       "  </tbody>\n",
       "</table>\n",
       "</div>"
      ],
      "text/plain": [
       "   meses_ultima  frecuencia  volumen  meses_primera  donante\n",
       "0             2          50    12500             98        1\n",
       "1             0          13     3250             28        1\n",
       "2             1          16     4000             35        1\n",
       "3             2          20     5000             45        1\n",
       "4             1          24     6000             77        0"
      ]
     },
     "execution_count": 1,
     "metadata": {},
     "output_type": "execute_result"
    }
   ],
   "source": [
    "# Cargamos bibliotecas importantes\n",
    "import pandas as pd\n",
    "import numpy as np\n",
    "import matplotlib.pyplot as plt\n",
    "from sklearn.linear_model import LogisticRegression\n",
    "from sklearn import preprocessing\n",
    "\n",
    "# Cargamos el dataset de transfusion\n",
    "transfusion_data = pd.read_csv('data/transfusion.csv')\n",
    "transfusion_data.head()"
   ]
  },
  {
   "cell_type": "code",
   "execution_count": null,
   "metadata": {},
   "outputs": [],
   "source": [
    "# EJERCICIO (1pt): Colocar los datos en formato numpy\n",
    "\n",
    "transfusion_x = None # Independientes: contiene las columnas meses_ultima, frecuencia, volumen y meses_primera\n",
    "transfusion_y = None # Dependiente: contiene la columna donante"
   ]
  },
  {
   "cell_type": "code",
   "execution_count": null,
   "metadata": {},
   "outputs": [],
   "source": [
    "# EJERCICIO (2pt): Entrenar un modelo de regresión logística con scikit-learn\n",
    "transfusion_modelo = None"
   ]
  },
  {
   "cell_type": "code",
   "execution_count": null,
   "metadata": {},
   "outputs": [],
   "source": [
    "# EJERCICIO (2pt): Crear una función de predicción\n",
    "def es_donante(meses_ultima, frecuencia, volumen, meses_primera):\n",
    "    \n",
    "    # Devuelve True si se predice como donante, False si no\n",
    "    return None"
   ]
  },
  {
   "cell_type": "code",
   "execution_count": null,
   "metadata": {},
   "outputs": [],
   "source": [
    "# --- CELDA PARA PROBAR SU MODELO UNA VEZ ESTÉ ENTRENADO --- #\n",
    "\n",
    "## Precisión del modelo debe ser aproximadamente 0.77\n",
    "print('Precisión: ', (transfusion_modelo.predict(transfusion_x) == transfusion_y).mean())\n",
    "\n",
    "# Debe dar False\n",
    "print('es_donante(3, 20, 1000, 8): ', es_donante(3, 20, 1000, 8))\n",
    "\n",
    "# Debe dar True\n",
    "print('es_donante(6, 12, 5000, 20): ', es_donante(6, 12, 5000, 20))"
   ]
  },
  {
   "cell_type": "markdown",
   "metadata": {},
   "source": [
    "## Clasificación multiclase\n",
    "\n",
    "Nuestro dataset se encuentra en el archivo ``data/provincias.csv``, el cual contiene 484 observaciones de puntos de latitud (columna ``lat``) y longitud (columna ``long``) en el territorio nacional, con una variable ``provincia`` que indica en qué provincia se ubica cada punto. \n",
    "\n",
    "Nuestro propósito es construir una función ``cual_provincia(latitud, longitud)`` la cual devuelve el nombre de la provincia y su probabilidad correspondiente. "
   ]
  },
  {
   "cell_type": "code",
   "execution_count": 2,
   "metadata": {},
   "outputs": [
    {
     "data": {
      "text/plain": [
       "<matplotlib.collections.PathCollection at 0x1af9cb57a90>"
      ]
     },
     "execution_count": 2,
     "metadata": {},
     "output_type": "execute_result"
    },
    {
     "data": {
      "image/png": "[encoded data removed]",
      "text/plain": [
       "<Figure size 432x288 with 1 Axes>"
      ]
     },
     "metadata": {
      "needs_background": "light"
     },
     "output_type": "display_data"
    }
   ],
   "source": [
    "# Cargamos el dataset de provincias\n",
    "provincias_data = pd.read_csv('data/provincias_scaled.csv')\n",
    "\n",
    "# Y mostramos los puntos en el mapa\n",
    "# Primero, codifiquemos las provincias en 0-6\n",
    "le = preprocessing.LabelEncoder()\n",
    "le.fit(provincias_data['provincia'])\n",
    "c = le.transform(provincias_data['provincia'])\n",
    "\n",
    "# Leemos el archivo\n",
    "im = plt.imread('data/mapaCR.png')\n",
    "implot = plt.imshow(im)\n",
    "\n",
    "# Escalamos los arrays en 0-1\n",
    "p_long = provincias_data['long']\n",
    "p_lat = provincias_data['lat']\n",
    "\n",
    "# Dibujamos (con un pequeño offset empírico para que caiga en la imágen)\n",
    "plt.scatter((im.shape[0]*p_long)*0.95 + 25, (im.shape[1]*(1-p_lat))*0.8 + 20, c=c)"
   ]
  },
  {
   "cell_type": "code",
   "execution_count": null,
   "metadata": {},
   "outputs": [],
   "source": [
    "# EJERCICIO (2pt): Entrenar un modelo de regresión softmax para distinguir la probabilidad de que un punto \n",
    "# esté en cada provincia\n",
    "# *** NOTA IMPORTANTE: para los datos de entrenamiento, vamos a utilizar los arrays escalados \"p_long\" y \"p_lat\"\n",
    "\n",
    "provincias_model = None"
   ]
  },
  {
   "cell_type": "code",
   "execution_count": null,
   "metadata": {},
   "outputs": [],
   "source": [
    "# EJERCICIO (2pt): Función que devuelve un diccionario con la probabilidad de que un punto (longitud, latitud) \n",
    "# se encuentre en una provincia dada, \n",
    "# p.ej. {'ALAJUELA': 0.3, 'CARTAGO': 0.1, 'PUNTARENAS': 0.1, \n",
    "#        'LIMON': 0.1 'GUANACASTE': 0.1, 'HEREDIA': 0.2, 'SAN JOSE': 0.1}\n",
    "\n",
    "def prob_provincias(long, lat):\n",
    "    return None"
   ]
  },
  {
   "cell_type": "code",
   "execution_count": null,
   "metadata": {},
   "outputs": [],
   "source": [
    "# EJERCICIO (1pt): Función que devuelve la provincia de mayor probabilidad a la que un punto (longitud, latitud)\n",
    "# pertenece.\n",
    "\n",
    "def cual_provincia(long, lat):\n",
    "    return None"
   ]
  },
  {
   "cell_type": "code",
   "execution_count": null,
   "metadata": {},
   "outputs": [],
   "source": [
    "# --- CELDA PARA PROBAR SU MODELO UNA VEZ ESTÉ ENTRENADO --- #\n",
    "\n",
    "from scipy.spatial import Delaunay\n",
    "points = np.array((p_long, p_lat)).T\n",
    "hull = Delaunay(points)\n",
    "\n",
    "samples = np.random.rand(20000,2)\n",
    "samples = np.array([x for x in samples if hull.find_simplex(x) >= 0]).T\n",
    "\n",
    "im = plt.imread('data/mapaCR.png')\n",
    "implot = plt.imshow(im)\n",
    "\n",
    "plt.scatter((samples[0]*im.shape[0])*0.95 + 25, ((1.0-samples[1])*im.shape[1])*0.8 + 20, c=le.transform(provincias_model.predict(samples.T)), alpha=0.05)"
   ]
  }
 ],
 "metadata": {
  "kernelspec": {
   "display_name": "Python 3",
   "language": "python",
   "name": "python3"
  },
  "language_info": {
   "codemirror_mode": {
    "name": "ipython",
    "version": 3
   },
   "file_extension": ".py",
   "mimetype": "text/x-python",
   "name": "python",
   "nbconvert_exporter": "python",
   "pygments_lexer": "ipython3",
   "version": "3.6.10"
  }
 },
 "nbformat": 4,
 "nbformat_minor": 4
}
