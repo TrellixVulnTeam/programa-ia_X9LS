{
 "cells": [
  {
   "cell_type": "code",
   "execution_count": 2,
   "metadata": {},
   "outputs": [],
   "source": [
    "import tensorflow as tf\n",
    "import keras_preprocessing\n",
    "from keras_preprocessing import image\n",
    "from keras_preprocessing.image import ImageDataGenerator\n",
    "from tensorflow import keras\n",
    "from tensorflow.keras import layers\n",
    "from tensorflow.keras.models import Sequential\n",
    "from tensorflow.keras.layers import Dense\n",
    "\n",
    "# fix 'DirectoryIterator' object has no attribute 'shape'\n",
    "from tensorflow.python.keras.utils.data_utils import Sequence\n",
    "\n",
    "import warnings\n",
    "warnings.filterwarnings('ignore')"
   ]
  },
  {
   "cell_type": "markdown",
   "metadata": {},
   "source": [
    "#### Cargar Imagenes del Disco Duro con ImageDataGenerator"
   ]
  },
  {
   "cell_type": "code",
   "execution_count": 3,
   "metadata": {},
   "outputs": [
    {
     "name": "stdout",
     "output_type": "stream",
     "text": [
      "Found 911 images belonging to 7 classes.\n",
      "Found 70 images belonging to 7 classes.\n"
     ]
    }
   ],
   "source": [
    "ENTRENAMIENTO_DIR = \"data/CK/\"\n",
    "PRUEBAS_DIR = \"data/CK_PRUEBAS/\"\n",
    "\n",
    "# configuracion de entrenamiento\n",
    "entrenamiento_datagen = ImageDataGenerator(\n",
    "    rescale = 1./255,\n",
    "    rotation_range=40,\n",
    "    width_shift_range=0.2,\n",
    "    height_shift_range=0.2,\n",
    "    shear_range=0.2,\n",
    "    zoom_range=0.2,\n",
    "    horizontal_flip=True,\n",
    "    fill_mode='nearest')\n",
    "\n",
    "# generador\n",
    "generador_entrenamiento = entrenamiento_datagen.flow_from_directory(\n",
    "    ENTRENAMIENTO_DIR,\n",
    "    target_size=(48,48),\n",
    "    class_mode='categorical'\n",
    ")\n",
    "\n",
    "# configuacion de pruebas (test set)\n",
    "pruebas_datagen = ImageDataGenerator(rescale=1./255)\n",
    "\n",
    "# generador\n",
    "generator_pruebas = pruebas_datagen.flow_from_directory(\n",
    "        PRUEBAS_DIR,\n",
    "        target_size=(48, 48),\n",
    "        class_mode='categorical')"
   ]
  },
  {
   "cell_type": "markdown",
   "metadata": {},
   "source": [
    "#### layers.BatchNormalization()\n",
    "\n",
    "La normalización por lotes aplica una transformación que mantiene la salida media cercana a 0 y la desviación estándar de salida cercana a 1."
   ]
  },
  {
   "cell_type": "code",
   "execution_count": 6,
   "metadata": {},
   "outputs": [
    {
     "name": "stdout",
     "output_type": "stream",
     "text": [
      "Model: \"sequential_1\"\n",
      "_________________________________________________________________\n",
      "Layer (type)                 Output Shape              Param #   \n",
      "=================================================================\n",
      "flatten_1 (Flatten)          (None, 6912)              0         \n",
      "_________________________________________________________________\n",
      "batch_normalization_3 (Batch (None, 6912)              27648     \n",
      "_________________________________________________________________\n",
      "dense_4 (Dense)              (None, 2048)              14157824  \n",
      "_________________________________________________________________\n",
      "batch_normalization_4 (Batch (None, 2048)              8192      \n",
      "_________________________________________________________________\n",
      "dense_5 (Dense)              (None, 1024)              2098176   \n",
      "_________________________________________________________________\n",
      "batch_normalization_5 (Batch (None, 1024)              4096      \n",
      "_________________________________________________________________\n",
      "dense_6 (Dense)              (None, 200)               205000    \n",
      "_________________________________________________________________\n",
      "dense_7 (Dense)              (None, 2)                 402       \n",
      "=================================================================\n",
      "Total params: 16,501,338\n",
      "Trainable params: 16,481,370\n",
      "Non-trainable params: 19,968\n",
      "_________________________________________________________________\n"
     ]
    }
   ],
   "source": [
    "modelo = keras.Sequential(\n",
    "    [\n",
    "        keras.Input(shape=(48, 48, 3)),\n",
    "        # =============================\n",
    "        # ...CAPAS CONVOLUCIONALES...\n",
    "        # =============================\n",
    "        layers.Flatten(),\n",
    "        layers.BatchNormalization(),\n",
    "        layers.Dense(2048, activation=\"relu\"),\n",
    "        layers.BatchNormalization(),\n",
    "        layers.Dense(1024, activation=\"relu\"),\n",
    "        layers.BatchNormalization(),\n",
    "        layers.Dense(200, activation=\"relu\"),\n",
    "        layers.Dense(2, activation=\"softmax\"),\n",
    "    ]\n",
    ")\n",
    "\n",
    "modelo.build((48, 48))\n",
    "modelo.summary()\n",
    "modelo.compile(loss = 'categorical_crossentropy', optimizer='adamax', metrics=['accuracy'])"
   ]
  },
  {
   "cell_type": "code",
   "execution_count": 7,
   "metadata": {},
   "outputs": [
    {
     "ename": "SyntaxError",
     "evalue": "invalid syntax (<ipython-input-7-2939fa3894a4>, line 1)",
     "output_type": "error",
     "traceback": [
      "\u001b[0;36m  File \u001b[0;32m\"<ipython-input-7-2939fa3894a4>\"\u001b[0;36m, line \u001b[0;32m1\u001b[0m\n\u001b[0;31m    conda activate ai-01 = modelo.fit(\u001b[0m\n\u001b[0m                 ^\u001b[0m\n\u001b[0;31mSyntaxError\u001b[0m\u001b[0;31m:\u001b[0m invalid syntax\n"
     ]
    }
   ],
   "source": [
    "historia = modelo.fit(\n",
    "    generador_entrenamiento,\n",
    "    steps_per_epoch = 100,\n",
    "    epochs = 300, \n",
    "    verbose = 1,\n",
    "    validation_data=generator_pruebas,\n",
    "    validation_steps=100)"
   ]
  },
  {
   "cell_type": "code",
   "execution_count": null,
   "metadata": {},
   "outputs": [],
   "source": []
  }
 ],
 "metadata": {
  "kernelspec": {
   "display_name": "Python 3",
   "language": "python",
   "name": "python3"
  },
  "language_info": {
   "codemirror_mode": {
    "name": "ipython",
    "version": 3
   },
   "file_extension": ".py",
   "mimetype": "text/x-python",
   "name": "python",
   "nbconvert_exporter": "python",
   "pygments_lexer": "ipython3",
   "version": "3.6.12"
  }
 },
 "nbformat": 4,
 "nbformat_minor": 4
}
